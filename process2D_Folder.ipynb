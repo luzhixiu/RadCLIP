{
 "cells": [
  {
   "cell_type": "code",
   "execution_count": 1,
   "metadata": {},
   "outputs": [],
   "source": [
    "\n",
    "import os\n",
    "import os\n",
    "import glob\n",
    "import pydicom\n",
    "import pandas as pd"
   ]
  },
  {
   "cell_type": "code",
   "execution_count": 2,
   "metadata": {},
   "outputs": [],
   "source": [
    "dir=\"../Data/2D/\""
   ]
  },
  {
   "cell_type": "code",
   "execution_count": 3,
   "metadata": {},
   "outputs": [
    {
     "name": "stdout",
     "output_type": "stream",
     "text": [
      "184\n"
     ]
    }
   ],
   "source": [
    "folders=os.listdir(dir)\n",
    "print(len(folders))"
   ]
  },
  {
   "cell_type": "code",
   "execution_count": 4,
   "metadata": {},
   "outputs": [],
   "source": [
    "def find_image_files(directory):\n",
    "    image_extensions = ['.jpg', '.png', '.jpeg', '.dicom']\n",
    "    image_files = []\n",
    "\n",
    "    for root, _, files in os.walk(directory):\n",
    "        for file in files:\n",
    "            file_extension = os.path.splitext(file)[1].lower()\n",
    "\n",
    "            if file_extension in image_extensions:\n",
    "                file_path = os.path.join(root, file)\n",
    "                image_files.append(file_path)\n",
    "    print('Found %d image files in %s' % (len(image_files), directory))\n",
    "    return image_files\n"
   ]
  },
  {
   "cell_type": "code",
   "execution_count": 5,
   "metadata": {},
   "outputs": [],
   "source": [
    "dataset_names=[]\n",
    "image_dirs=[]\n"
   ]
  },
  {
   "cell_type": "code",
   "execution_count": 6,
   "metadata": {},
   "outputs": [
    {
     "name": "stdout",
     "output_type": "stream",
     "text": [
      "Found 2820 image files in ../Data/2D/Abdomen CT uterine pathology\n",
      "Found 155 image files in ../Data/2D/Abdomen MRI bladder \n",
      "Found 1648 image files in ../Data/2D/Chest X-ray Pneumonia\n",
      "Found 392 image files in ../Data/2D/Abdomen CT fat containing tumor\n",
      "Found 17 image files in ../Data/2D/Finger X-ray\n",
      "Found 926 image files in ../Data/2D/Brain MRI glioma tumor\n",
      "Found 2199 image files in ../Data/2D/Lung CT Parenchyma destruction\n",
      "Found 683 image files in ../Data/2D/Abdomen CT intraperitoneal mass\n",
      "Found 8954 image files in ../Data/2D/Breast MRI\n",
      "Found 380 image files in ../Data/2D/Ankle-Foot MRI syndesmosis \n",
      "Found 8 image files in ../Data/2D/Spine X-ray spondylolisthesis\n",
      "Found 52980 image files in ../Data/2D/Abdomen MRI osseous neoplasm\n",
      "Found 252 image files in ../Data/2D/Abdomen CT soft tissue mass\n",
      "Found 11357 image files in ../Data/2D/Abdomen CT liver lesion\n",
      "Found 32563 image files in ../Data/2D/Spine MRI disc\n",
      "Found 430 image files in ../Data/2D/Hip MRI hematoma\n",
      "Found 513 image files in ../Data/2D/Brain MRI acute infarct\n",
      "Found 1944 image files in ../Data/2D/Abdomen CT adrenal pathology\n",
      "Found 9156 image files in ../Data/2D/Chest X-ray Atelectasis\n",
      "Found 69238 image files in ../Data/2D/Abdomen CT normal\n",
      "Found 1719 image files in ../Data/2D/Hand X-ray\n",
      "Found 2456 image files in ../Data/2D/Hip MRI post op\n",
      "Found 206 image files in ../Data/2D/Abdomen MRI enlarged organ\n",
      "Found 765 image files in ../Data/2D/Abdomen MRI ascites\n",
      "Found 110 image files in ../Data/2D/Knee X-ray\n",
      "Found 7748 image files in ../Data/2D/Ankle-Foot MRI soft tissue edema\n",
      "Found 29069 image files in ../Data/2D/Chest X-ray Lung Opacity\n",
      "Found 209586 image files in ../Data/2D/Ankle-Foot MRI soft tissue fluid\n",
      "Found 813 image files in ../Data/2D/Abdomen CT bil dil\n",
      "Found 0 image files in ../Data/2D/2d_features.csv\n",
      "Found 2534 image files in ../Data/2D/Ankle-Foot MRI post op\n",
      "Found 257 image files in ../Data/2D/Abdomen MRI bowel inflammation\n",
      "Found 1721 image files in ../Data/2D/Brain MRI intra\n",
      "Found 6143 image files in ../Data/2D/Chest X-ray No Finding\n",
      "Found 2068 image files in ../Data/2D/Abdomen MRI renal lesion\n",
      "Found 78 image files in ../Data/2D/Feet X-ray\n",
      "Found 1155 image files in ../Data/2D/Abdomen CT dilated urinary tract\n",
      "Found 31105 image files in ../Data/2D/Ankle-Foot MRI bone inflammation\n",
      "Found 149 image files in ../Data/2D/Abdomen CT gallbladder pathology\n",
      "Found 717 image files in ../Data/2D/Abdomen MRI marrow abn\n",
      "Found 55 image files in ../Data/2D/Ankle-Foot MRI lisfranc \n",
      "Found 2991 image files in ../Data/2D/Chest X-ray Enlarged Cardiomediastinum\n",
      "Found 901 image files in ../Data/2D/Abdomen MRI intraperitoneal mass\n",
      "Found 472 image files in ../Data/2D/Spine CT Scoliosis\n",
      "Found 69 image files in ../Data/2D/Abdomen MRI prostate lesion\n",
      "Found 32670 image files in ../Data/2D/Chest X-ray Support Devices\n",
      "Found 2025 image files in ../Data/2D/Lung CT Bronchiectasis\n",
      "Found 225 image files in ../Data/2D/Abdomen MRI bil dil\n",
      "Found 96 image files in ../Data/2D/Abdomen MRI bowel mass\n",
      "Found 8 image files in ../Data/2D/Knee X-ray fracture\n",
      "Found 8384 image files in ../Data/2D/Ankle-Foot MRI soft tissue mass\n",
      "Found 10 image files in ../Data/2D/Spine X-ray osteoporosis\n",
      "Found 12033 image files in ../Data/2D/Ankle-Foot MRI atfl \n",
      "Found 23914 image files in ../Data/2D/Chest X-ray Pleural Effusion\n",
      "Found 58 image files in ../Data/2D/Abdomen MRI dilated urinary tract\n",
      "Found 3708 image files in ../Data/2D/Abdomen CT Cyst\n",
      "Found 1891 image files in ../Data/2D/Abdomen MRI ovarian \n",
      "Found 11143 image files in ../Data/2D/Ankle-Foot MRI normal\n",
      "Found 1058 image files in ../Data/2D/Abdomen MRI liver disease \n",
      "Found 4226 image files in ../Data/2D/Chest X-ray Consolidation\n",
      "Found 14934 image files in ../Data/2D/Chest X-ray Edema\n",
      "Found 2981 image files in ../Data/2D/Chest X-ray healthy\n",
      "Found 1316 image files in ../Data/2D/Abdomen CT arterial pathology\n",
      "Found 10 image files in ../Data/2D/Spine X-ray vertebral_compression_fracture\n",
      "Found 9 image files in ../Data/2D/Spine X-ray disability\n",
      "Found 25 image files in ../Data/2D/Hip X-ray\n",
      "Found 105 image files in ../Data/2D/Wrist X-ray\n",
      "Found 125 image files in ../Data/2D/Abdomen CT soft tissue collection\n",
      "Found 92 image files in ../Data/2D/Abdomen MRI arterial \n",
      "Found 29002 image files in ../Data/2D/Ankle-Foot MRI chondral abnormality\n",
      "Found 8232 image files in ../Data/2D/Spine MRI dural epidural\n",
      "Found 901 image files in ../Data/2D/Brain MRI pituitary tumor\n",
      "Found 7276 image files in ../Data/2D/Ankle-Foot MRI peroneal \n",
      "Found 9 image files in ../Data/2D/Spine X-ray osteochondrosis\n",
      "Found 2124 image files in ../Data/2D/Hip MRI soft tissue edema\n",
      "Found 72054 image files in ../Data/2D/Abdomen MRI normal\n",
      "Found 937 image files in ../Data/2D/Brain MRI meningioma tumor\n",
      "Found 9232 image files in ../Data/2D/Ankle-Foot MRI achilles\n",
      "Found 11498 image files in ../Data/2D/Lung CT interstitial lung disease\n",
      "Found 178 image files in ../Data/2D/Abdomen MRI soft tissue collection\n",
      "Found 701 image files in ../Data/2D/Ankle-Foot MRI extensor\n",
      "Found 8102 image files in ../Data/2D/Hip MRI chondral \n",
      "Found 2291 image files in ../Data/2D/Spine MRI osseous abn\n",
      "Found 15 image files in ../Data/2D/Forearm X-ray\n",
      "Found 87 image files in ../Data/2D/Spine X-ray Lumbar Spine\n",
      "Found 3338 image files in ../Data/2D/Abdomen MRI liver lesion\n",
      "Found 10000 image files in ../Data/2D/Hand CT\n",
      "Found 178 image files in ../Data/2D/Abdomen MRI bowel abnormality\n",
      "Found 260 image files in ../Data/2D/Abdomen MRI splenic lesion\n",
      "Found 1756 image files in ../Data/2D/Hip MRI osseous lesion\n",
      "Found 653 image files in ../Data/2D/Abdomen CT splenic lesion\n",
      "Found 10266 image files in ../Data/2D/Brain MRI white matter changes\n",
      "Found 62 image files in ../Data/2D/Ankle-Foot MRI coalition\n",
      "Found 3853 image files in ../Data/2D/Hip MRI soft tissue fluid\n",
      "Found 649 image files in ../Data/2D/Ankle-Foot MRI Plantar plate tear\n",
      "Found 4921 image files in ../Data/2D/Abdomen CT post op\n",
      "Found 530 image files in ../Data/2D/Hip MRI soft tissue mass\n",
      "Found 721 image files in ../Data/2D/Spine MRI cord\n",
      "Found 2283 image files in ../Data/2D/Abdomen CT Tumor\n",
      "Found 0 image files in ../Data/2D/CT.csv\n",
      "Found 648 image files in ../Data/2D/Abdomen MRI adrenal \n",
      "Found 23 image files in ../Data/2D/Sinus X-ray\n",
      "Found 2767 image files in ../Data/2D/Ankle-Foot MRI deltoid \n",
      "Found 8 image files in ../Data/2D/Spine X-ray\n",
      "Found 1722 image files in ../Data/2D/Abdomen CT urolithiasis\n",
      "Found 120 image files in ../Data/2D/Hip MRI capsular \n",
      "Found 2610 image files in ../Data/2D/Abdomen CT osseous neoplasm\n",
      "Found 478 image files in ../Data/2D/Abdomen MRI gallbladder \n",
      "Found 5077 image files in ../Data/2D/Abdomen CT Normal\n",
      "Found 1259 image files in ../Data/2D/Brain MRI extra\n",
      "Found 10 image files in ../Data/2D/Skull X-ray\n",
      "Found 2469 image files in ../Data/2D/Chest X-ray Lung Lesion\n",
      "Found 125 image files in ../Data/2D/Brain MRI Edema\n",
      "Found 396 image files in ../Data/2D/Brain MRI\n",
      "Found 7 image files in ../Data/2D/Spine X-ray healthy\n",
      "Found 914 image files in ../Data/2D/Ankle-Foot MRI osseous neoplasm\n",
      "Found 2513 image files in ../Data/2D/Chest X-ray Fracture\n",
      "Found 10000 image files in ../Data/2D/Chest CT\n",
      "Found 1471 image files in ../Data/2D/Abdomen CT ovarian pathology\n",
      "Found 81 image files in ../Data/2D/Spine X-ray Cervical Spine\n",
      "Found 19714 image files in ../Data/2D/Hip MRI labral \n",
      "Found 71 image files in ../Data/2D/Pelvis X-ray\n",
      "Found 242 image files in ../Data/2D/Ankle-Foot MRI hematoma\n",
      "Found 6432 image files in ../Data/2D/Ankle-Foot MRI plantar fascia \n",
      "Found 9729 image files in ../Data/2D/Abdomen CT bowel abnormality\n",
      "Found 478 image files in ../Data/2D/Abdomen CT bowel mass\n",
      "Found 1024 image files in ../Data/2D/Chest X-ray Pleural Other\n",
      "Found 2167 image files in ../Data/2D/Abdomen CT pancreatic lesion\n",
      "Found 3577 image files in ../Data/2D/Abdomen MRI uterine \n",
      "Found 9 image files in ../Data/2D/Knee X-ray arthritis\n",
      "Found 26 image files in ../Data/2D/Leg X-ray Lower Leg\n",
      "Found 179 image files in ../Data/2D/Abdomen MRI degenerative changes\n",
      "Found 56988 image files in ../Data/2D/Lung CT normal\n",
      "Found 4260 image files in ../Data/2D/Ankle-Foot MRI cfl \n",
      "Found 30968 image files in ../Data/2D/Lung CT Nodule\n",
      "Found 1761 image files in ../Data/2D/Abdomen CT bladder pathology\n",
      "Found 751 image files in ../Data/2D/Brain MRI focal flair hyper\n",
      "Found 2366 image files in ../Data/2D/Abdomen CT gallstone\n",
      "Found 1518 image files in ../Data/2D/Abdomen CT ascites\n",
      "Found 33 image files in ../Data/2D/Knee X-ray osteoarthritis\n",
      "Found 41 image files in ../Data/2D/Shoulder X-ray\n",
      "Found 27374 image files in ../Data/2D/Brain MRI normal\n",
      "Found 8053 image files in ../Data/2D/Chest X-ray Cardiomegaly\n",
      "Found 3760 image files in ../Data/2D/Hip MRI marrow inflammation\n",
      "Found 8 image files in ../Data/2D/Spine X-ray other\n",
      "Found 102 image files in ../Data/2D/Ankle-Foot MRI spring ligament injury\n",
      "Found 350 image files in ../Data/2D/Spine MRI facet arthropathy\n",
      "Found 11958 image files in ../Data/2D/Spine MRI foraminal\n",
      "Found 10000 image files in ../Data/2D/Abdomen CT\n",
      "Found 25 image files in ../Data/2D/Elbow X-ray\n",
      "Found 273 image files in ../Data/2D/Ankle-Foot MRI fat containing tumor\n",
      "Found 2307 image files in ../Data/2D/Brain MRI chronic infarct\n",
      "Found 11807 image files in ../Data/2D/Abdomen CT renal lesion\n",
      "Found 12238 image files in ../Data/2D/Spine MRI normal\n",
      "Found 83 image files in ../Data/2D/Brain MRI pituatary lesion\n",
      "Found 48850 image files in ../Data/2D/Lung CT Airspace opacity\n",
      "Found 272 image files in ../Data/2D/Brain MRI arteriovenous anomaly\n",
      "Found 6595 image files in ../Data/2D/Hip MRI normal\n",
      "Found 15 image files in ../Data/2D/Thigh X-ray\n",
      "Found 52 image files in ../Data/2D/Abdomen CT degenerative changes\n",
      "Found 3621 image files in ../Data/2D/Ankle-Foot MRI flexor\n",
      "Found 230 image files in ../Data/2D/Abdomen MRI soft tissue mass\n",
      "Found 1377 image files in ../Data/2D/Abdomen CT Stone\n",
      "Found 64 image files in ../Data/2D/Spine X-ray Thoracic Spine\n",
      "Found 266 image files in ../Data/2D/Abdomen CT abnormal entire organ\n",
      "Found 9 image files in ../Data/2D/Clavicles X-ray\n",
      "Found 125 image files in ../Data/2D/Brain MRI edema\n",
      "Found 572 image files in ../Data/2D/Ankle-Foot MRI intra\n",
      "Found 0 image files in ../Data/2D/2d.csv\n",
      "Found 235 image files in ../Data/2D/Hip MRI hamstring \n",
      "Found 8 image files in ../Data/2D/Spine X-ray scoliosis\n",
      "Found 7112 image files in ../Data/2D/Abdomen CT bowel inflammation\n",
      "Found 837 image files in ../Data/2D/Hip MRI abductor  \n",
      "Found 1097 image files in ../Data/2D/Abdomen MRI pancreatic lesion\n",
      "Found 2697 image files in ../Data/2D/Chest X-ray covid\n",
      "Found 905 image files in ../Data/2D/Hip MRI osseous disruption\n",
      "Found 10000 image files in ../Data/2D/Head CT\n",
      "Found 1991 image files in ../Data/2D/Spine MRI scoliosis\n",
      "Found 2489 image files in ../Data/2D/Chest X-ray viral pneumonia\n",
      "Found 948 image files in ../Data/2D/Abdomen CT prostate lesion\n",
      "Found 12085 image files in ../Data/2D/Ankle-Foot MRI osseous disruption\n",
      "Found 0 image files in ../Data/2D/sampling.sh\n",
      "Found 6166 image files in ../Data/2D/Chest X-ray Pneumothorax\n",
      "Found 1330 image files in ../Data/2D/Spine MRI cystic lesions\n"
     ]
    }
   ],
   "source": [
    "for folder in folders:\n",
    "    folder_path=dir+folder\n",
    "    images=find_image_files(folder_path)\n",
    "    for i in range(len(images)):\n",
    "        dataset_names.append(folder)\n",
    "    image_dirs.extend(images)\n",
    "\n",
    "    "
   ]
  },
  {
   "cell_type": "code",
   "execution_count": 7,
   "metadata": {},
   "outputs": [
    {
     "data": {
      "text/plain": [
       "(1185975, 1185975)"
      ]
     },
     "execution_count": 7,
     "metadata": {},
     "output_type": "execute_result"
    }
   ],
   "source": [
    "len(dataset_names),len(image_dirs)"
   ]
  },
  {
   "cell_type": "code",
   "execution_count": 8,
   "metadata": {},
   "outputs": [
    {
     "name": "stdout",
     "output_type": "stream",
     "text": [
      "{'Chest X-ray Pleural Other', 'Ankle-Foot MRI osseous neoplasm', 'Ankle-Foot MRI soft tissue fluid', 'Spine X-ray Lumbar Spine', 'Abdomen MRI soft tissue collection', 'Abdomen MRI arterial ', 'Forearm X-ray', 'Hip MRI osseous lesion', 'Abdomen CT Normal', 'Abdomen CT soft tissue mass', 'Spine X-ray disability', 'Spine MRI normal', 'Abdomen CT prostate lesion', 'Abdomen MRI marrow abn', 'Brain MRI meningioma tumor', 'Ankle-Foot MRI flexor', 'Abdomen MRI splenic lesion', 'Abdomen CT ovarian pathology', 'Spine X-ray scoliosis', 'Spine X-ray spondylolisthesis', 'Abdomen CT adrenal pathology', 'Abdomen CT ascites', 'Spine X-ray other', 'Chest X-ray Fracture', 'Spine X-ray Cervical Spine', 'Brain MRI white matter changes', 'Hip MRI osseous disruption', 'Ankle-Foot MRI intra', 'Knee X-ray fracture', 'Chest X-ray No Finding', 'Abdomen MRI degenerative changes', 'Lung CT interstitial lung disease', 'Ankle-Foot MRI achilles', 'Abdomen MRI uterine ', 'Abdomen CT degenerative changes', 'Abdomen MRI liver lesion', 'Chest X-ray healthy', 'Chest X-ray Lung Opacity', 'Abdomen MRI ascites', 'Ankle-Foot MRI cfl ', 'Abdomen MRI enlarged organ', 'Brain MRI pituatary lesion', 'Pelvis X-ray', 'Chest X-ray Enlarged Cardiomediastinum', 'Abdomen CT liver lesion', 'Ankle-Foot MRI extensor', 'Ankle-Foot MRI Plantar plate tear', 'Abdomen CT Stone', 'Ankle-Foot MRI peroneal ', 'Ankle-Foot MRI bone inflammation', 'Abdomen MRI renal lesion', 'Abdomen CT abnormal entire organ', 'Ankle-Foot MRI syndesmosis ', 'Abdomen CT urolithiasis', 'Chest X-ray covid', 'Abdomen MRI bowel mass', 'Spine MRI osseous abn', 'Brain MRI edema', 'Abdomen CT normal', 'Abdomen MRI normal', 'Hip MRI soft tissue fluid', 'Hip MRI hematoma', 'Spine X-ray vertebral_compression_fracture', 'Abdomen MRI adrenal ', 'Hip MRI post op', 'Brain MRI', 'Abdomen MRI prostate lesion', 'Hip MRI capsular ', 'Abdomen CT renal lesion', 'Hip X-ray', 'Ankle-Foot MRI osseous disruption', 'Chest X-ray Support Devices', 'Abdomen CT pancreatic lesion', 'Spine X-ray osteoporosis', 'Ankle-Foot MRI lisfranc ', 'Spine X-ray healthy', 'Abdomen MRI gallbladder ', 'Hip MRI soft tissue mass', 'Finger X-ray', 'Chest X-ray Consolidation', 'Chest CT', 'Leg X-ray Lower Leg', 'Hip MRI marrow inflammation', 'Skull X-ray', 'Lung CT normal', 'Spine MRI foraminal', 'Abdomen CT', 'Ankle-Foot MRI deltoid ', 'Abdomen MRI osseous neoplasm', 'Ankle-Foot MRI hematoma', 'Chest X-ray Lung Lesion', 'Chest X-ray Pneumonia', 'Hip MRI abductor  ', 'Abdomen CT bowel inflammation', 'Brain MRI intra', 'Hand CT', 'Abdomen MRI intraperitoneal mass', 'Hip MRI normal', 'Knee X-ray arthritis', 'Ankle-Foot MRI post op', 'Brain MRI chronic infarct', 'Chest X-ray Atelectasis', 'Spine MRI disc', 'Abdomen CT uterine pathology', 'Abdomen MRI pancreatic lesion', 'Ankle-Foot MRI soft tissue mass', 'Chest X-ray viral pneumonia', 'Spine X-ray Thoracic Spine', 'Abdomen CT Tumor', 'Spine X-ray osteochondrosis', 'Abdomen CT bladder pathology', 'Abdomen CT intraperitoneal mass', 'Lung CT Nodule', 'Sinus X-ray', 'Abdomen MRI bil dil', 'Knee X-ray osteoarthritis', 'Spine X-ray', 'Abdomen CT Cyst', 'Hip MRI chondral ', 'Brain MRI focal flair hyper', 'Ankle-Foot MRI spring ligament injury', 'Lung CT Bronchiectasis', 'Abdomen CT osseous neoplasm', 'Brain MRI pituitary tumor', 'Abdomen CT bil dil', 'Ankle-Foot MRI normal', 'Elbow X-ray', 'Ankle-Foot MRI chondral abnormality', 'Spine MRI cord', 'Abdomen CT gallstone', 'Brain MRI arteriovenous anomaly', 'Abdomen CT gallbladder pathology', 'Hand X-ray', 'Abdomen CT dilated urinary tract', 'Lung CT Airspace opacity', 'Abdomen CT post op', 'Abdomen CT bowel mass', 'Brain MRI normal', 'Abdomen MRI bladder ', 'Clavicles X-ray', 'Brain MRI acute infarct', 'Chest X-ray Edema', 'Abdomen CT fat containing tumor', 'Thigh X-ray', 'Ankle-Foot MRI soft tissue edema', 'Abdomen MRI dilated urinary tract', 'Abdomen CT arterial pathology', 'Abdomen CT splenic lesion', 'Spine MRI cystic lesions', 'Spine MRI facet arthropathy', 'Abdomen MRI bowel inflammation', 'Wrist X-ray', 'Hip MRI labral ', 'Breast MRI', 'Knee X-ray', 'Feet X-ray', 'Abdomen MRI soft tissue mass', 'Brain MRI Edema', 'Spine CT Scoliosis', 'Spine MRI scoliosis', 'Brain MRI extra', 'Abdomen CT bowel abnormality', 'Ankle-Foot MRI atfl ', 'Head CT', 'Abdomen MRI bowel abnormality', 'Ankle-Foot MRI plantar fascia ', 'Abdomen MRI ovarian ', 'Abdomen CT soft tissue collection', 'Lung CT Parenchyma destruction', 'Chest X-ray Pleural Effusion', 'Hip MRI soft tissue edema', 'Chest X-ray Cardiomegaly', 'Ankle-Foot MRI fat containing tumor', 'Chest X-ray Pneumothorax', 'Abdomen MRI liver disease ', 'Hip MRI hamstring ', 'Brain MRI glioma tumor', 'Shoulder X-ray', 'Spine MRI dural epidural', 'Ankle-Foot MRI coalition'}\n"
     ]
    }
   ],
   "source": [
    "print(set(dataset_names))"
   ]
  },
  {
   "cell_type": "code",
   "execution_count": 9,
   "metadata": {},
   "outputs": [],
   "source": [
    "regions=[]\n",
    "image_types=[]\n",
    "Additional_Infos=[]\n",
    "\n",
    "for dataset_name in dataset_names:\n",
    "    splitList=dataset_name.split(\" \")\n",
    "    region=splitList[0]\n",
    "    image_type=splitList[1]\n",
    "    Additional_Info=\"\"\n",
    "    if len(splitList)>2:\n",
    "        for i in range(2,len(splitList)):\n",
    "            Additional_Info+=splitList[i]+\" \"\n",
    "    regions.append(region)\n",
    "    image_types.append(image_type)\n",
    "    Additional_Infos.append(Additional_Info)\n",
    "\n",
    "df=pd.DataFrame({\"dataset_name\":dataset_names,\"image_dir\":image_dirs,\"region\":regions,\"image_type\":image_types,\"Additional_Info\":Additional_Infos})"
   ]
  },
  {
   "cell_type": "code",
   "execution_count": 16,
   "metadata": {},
   "outputs": [
    {
     "name": "stdout",
     "output_type": "stream",
     "text": [
      "Frequency of each disease:\n",
      "Additional_Info\n",
      "normal                255630\n",
      "soft tissue fluid     213439\n",
      "osseous neoplasm       56504\n",
      "                       51621\n",
      "Airspace opacity       48850\n",
      "                       ...  \n",
      "disability                 9\n",
      "arthritis                  9\n",
      "fracture                   8\n",
      "other                      8\n",
      "spondylolisthesis          8\n",
      "Name: count, Length: 124, dtype: int64\n",
      "\n",
      "Number of unique disease conditions: 124\n",
      "\n",
      "Number of missing values: 0\n"
     ]
    }
   ],
   "source": [
    "\n",
    "\n",
    "# 1. Get the frequency count for each disease condition\n",
    "disease_counts = df['Additional_Info'].value_counts(dropna=False)\n",
    "print(\"Frequency of each disease:\")\n",
    "print(disease_counts)\n",
    "# 2. Count the number of unique diseases (excluding missing values)\n",
    "unique_diseases = df['Additional_Info'].nunique(dropna=True)\n",
    "print(\"\\nNumber of unique disease conditions:\", unique_diseases)\n",
    "\n",
    "# 3. Count the number of missing values\n",
    "missing_values = df['Additional_Info'].isnull().sum()\n",
    "print(\"\\nNumber of missing values:\", missing_values)"
   ]
  },
  {
   "cell_type": "code",
   "execution_count": 10,
   "metadata": {},
   "outputs": [],
   "source": [
    "# df.to_csv(\"../Data/2D/2d.csv\")"
   ]
  }
 ],
 "metadata": {
  "kernelspec": {
   "display_name": "base",
   "language": "python",
   "name": "python3"
  },
  "language_info": {
   "codemirror_mode": {
    "name": "ipython",
    "version": 3
   },
   "file_extension": ".py",
   "mimetype": "text/x-python",
   "name": "python",
   "nbconvert_exporter": "python",
   "pygments_lexer": "ipython3",
   "version": "3.10.9"
  }
 },
 "nbformat": 4,
 "nbformat_minor": 2
}
